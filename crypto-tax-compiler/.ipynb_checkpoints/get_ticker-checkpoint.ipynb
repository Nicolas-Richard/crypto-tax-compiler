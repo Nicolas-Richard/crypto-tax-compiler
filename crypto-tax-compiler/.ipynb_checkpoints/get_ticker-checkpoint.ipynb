{
 "cells": [
  {
   "cell_type": "code",
   "execution_count": 105,
   "metadata": {
    "scrolled": true
   },
   "outputs": [],
   "source": [
    "import requests\n",
    "import configparser\n",
    "import json\n",
    "import os\n",
    "import sys\n",
    "sys.path.insert(0, '../config/config.py')\n",
    "import config"
   ]
  },
  {
   "cell_type": "code",
   "execution_count": 106,
   "metadata": {
    "scrolled": false
   },
   "outputs": [],
   "source": [
    "# To get access to the current path of the script\n",
    "# os.path.abspath(os.path.dirname(sys.argv[0]))"
   ]
  },
  {
   "cell_type": "code",
   "execution_count": 107,
   "metadata": {
    "scrolled": true
   },
   "outputs": [],
   "source": [
    "# To load the config file\n"
   ]
  },
  {
   "cell_type": "code",
   "execution_count": 108,
   "metadata": {
    "scrolled": false
   },
   "outputs": [
    {
     "name": "stdout",
     "output_type": "stream",
     "text": [
      "BTC  Price_USD: 5568.46\n",
      "ETH  Price_USD: 329.588\n",
      "Crypto Not Found\n"
     ]
    }
   ],
   "source": [
    "response = requests.get('https://api.coinmarketcap.com/v1/ticker/?limit=10').json()\n",
    "\n",
    "for crypto_ticker in response:\n",
    "    for x in config.crypto_tickers:\n",
    "        if crypto_ticker[\"symbol\"] == x:\n",
    "            value = crypto_ticker[\"price_usd\"]\n",
    "            print(x,\" Price_USD:\", value)\n",
    "else:\n",
    "    # Some default action\n",
    "    print(\"Crypto Not Found\")\n",
    "    value = \"N/A\"\n",
    "    \n"
   ]
  }
 ],
 "metadata": {
  "kernelspec": {
   "display_name": "Python 3",
   "language": "python",
   "name": "python3"
  },
  "language_info": {
   "codemirror_mode": {
    "name": "ipython",
    "version": 3
   },
   "file_extension": ".py",
   "mimetype": "text/x-python",
   "name": "python",
   "nbconvert_exporter": "python",
   "pygments_lexer": "ipython3",
   "version": "3.6.3"
  }
 },
 "nbformat": 4,
 "nbformat_minor": 2
}
